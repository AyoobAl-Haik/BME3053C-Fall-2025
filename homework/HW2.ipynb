{
  "nbformat": 4,
  "nbformat_minor": 0,
  "metadata": {
    "colab": {
      "provenance": [],
      "authorship_tag": "ABX9TyOVvj3kvZxLO/ec2R7FrnXB",
      "include_colab_link": true
    },
    "kernelspec": {
      "name": "python3",
      "display_name": "Python 3"
    },
    "language_info": {
      "name": "python"
    }
  },
  "cells": [
    {
      "cell_type": "markdown",
      "metadata": {
        "id": "view-in-github",
        "colab_type": "text"
      },
      "source": [
        "<a href=\"https://colab.research.google.com/github/AyoobAl-Haik/BME3053C-Fall-2025/blob/main/homework/HW2.ipynb\" target=\"_parent\"><img src=\"https://colab.research.google.com/assets/colab-badge.svg\" alt=\"Open In Colab\"/></a>"
      ]
    },
    {
      "cell_type": "code",
      "execution_count": null,
      "metadata": {
        "id": "9GBFTIFZvUvA",
        "colab": {
          "base_uri": "https://localhost:8080/"
        },
        "outputId": "1a975fa8-a384-4bd7-e312-e07ea53e0b71"
      },
      "outputs": [
        {
          "output_type": "stream",
          "name": "stdout",
          "text": [
            "Normalized values: [0.0, 0.321, 0.585, 0.057, 0.792, 1.0, 0.132, 0.642]\n"
          ]
        }
      ],
      "source": [
        "bp_readings = [120, 137, 151, 123, 162, 173, 127, 154] #given bp readings\n",
        "def normalize(data_list):\n",
        "  min_value = min(data_list) #find min value\n",
        "  max_value = max(data_list) #find max value\n",
        "  list_length = len(data_list) #get size of data list\n",
        "  list_entry = [None] * list_length #create an empty list of equal size to data list\n",
        "\n",
        "  for counter in range(list_length): #go through each empty index\n",
        "      list_entry[counter] = round((data_list[counter] - min_value)/(max_value - min_value), 3) #give each empty spot value of operation using data list values and round to 3 decimal places\n",
        "  return list_entry\n",
        "\n",
        "normalized_values = normalize(bp_readings)\n",
        "print(f\"Normalized values: {normalized_values}\")"
      ]
    }
  ]
}