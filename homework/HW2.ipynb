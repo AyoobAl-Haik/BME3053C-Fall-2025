{
  "nbformat": 4,
  "nbformat_minor": 0,
  "metadata": {
    "colab": {
      "provenance": [],
      "authorship_tag": "ABX9TyNAOXKn38WOpeokQjUgbX97",
      "include_colab_link": true
    },
    "kernelspec": {
      "name": "python3",
      "display_name": "Python 3"
    },
    "language_info": {
      "name": "python"
    }
  },
  "cells": [
    {
      "cell_type": "markdown",
      "metadata": {
        "id": "view-in-github",
        "colab_type": "text"
      },
      "source": [
        "<a href=\"https://colab.research.google.com/github/AyoobAl-Haik/BME3053C-Fall-2025/blob/main/homework/HW2.ipynb\" target=\"_parent\"><img src=\"https://colab.research.google.com/assets/colab-badge.svg\" alt=\"Open In Colab\"/></a>"
      ]
    },
    {
      "cell_type": "code",
      "execution_count": 84,
      "metadata": {
        "id": "9GBFTIFZvUvA",
        "colab": {
          "base_uri": "https://localhost:8080/"
        },
        "outputId": "5395069d-5eed-47f5-d5e2-21f2e78bd881"
      },
      "outputs": [
        {
          "output_type": "stream",
          "name": "stdout",
          "text": [
            "Normalized values: None\n"
          ]
        }
      ],
      "source": [
        "bp_readings = [120, 137, 151, 123, 162, 173, 127, 154] #given bp readings\n",
        "def normalize(data):\n",
        "  min_value = min(bp_readings) #find min value\n",
        "  max_value = max(bp_readings) #find max value\n",
        "  counter = 0\n",
        "  list_length = len(bp_readings)\n",
        "  normalized_values = [None] * list_length\n",
        "\n",
        "  for counter in range(0, list_length, 1): #go through each entry\n",
        "      normalized_values[counter] = (bp_readings[counter] - min_value)/(max_value - min_value) #operation of formula at each place in list\n",
        "  return\n",
        "normalized_values = normalize(bp_readings)\n",
        "print(f\"Normalized values: {normalized_values}\")"
      ]
    }
  ]
}