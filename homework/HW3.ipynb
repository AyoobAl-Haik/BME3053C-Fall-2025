{
  "nbformat": 4,
  "nbformat_minor": 0,
  "metadata": {
    "colab": {
      "provenance": [],
      "include_colab_link": true
    },
    "kernelspec": {
      "name": "python3",
      "display_name": "Python 3"
    },
    "language_info": {
      "name": "python"
    }
  },
  "cells": [
    {
      "cell_type": "markdown",
      "metadata": {
        "id": "view-in-github",
        "colab_type": "text"
      },
      "source": [
        "<a href=\"https://colab.research.google.com/github/AyoobAl-Haik/BME3053C-Fall-2025/blob/main/homework/HW3.ipynb\" target=\"_parent\"><img src=\"https://colab.research.google.com/assets/colab-badge.svg\" alt=\"Open In Colab\"/></a>"
      ]
    },
    {
      "cell_type": "code",
      "execution_count": null,
      "metadata": {
        "id": "J5SNdGMw8QTk",
        "colab": {
          "base_uri": "https://localhost:8080/"
        },
        "outputId": "e1c25345-b6d9-498d-a6a1-5728f652fe27"
      },
      "outputs": [
        {
          "output_type": "stream",
          "name": "stdout",
          "text": [
            "Number of peaks: 28\n"
          ]
        }
      ],
      "source": [
        "import math\n",
        "import random\n",
        "\n",
        "def peak_finder(ppg_signal):\n",
        "  peak_count = 0  #create variable to count peaks\n",
        "  for i in range(1, len(ppg_signal) - 1): # iterate thru list starting from second value to second to last to avoid out of range error\n",
        "    if ppg_signal[i] > ppg_signal[i - 1] and ppg_signal[i] > ppg_signal[i + 1]:\n",
        "      peak_count += 1 #if both the value at the index before and after the current index is less than it, add to peak count\n",
        "  return peak_count\n",
        "\n",
        "ppg_signal = [1000 + 100 * math.sin(0.1 * x) + random.randint(-20, 20) for x in range(100)] #ppg data\n",
        "\n",
        "# Print the result of calling the function\n",
        "print(\"Number of peaks:\", peak_finder(ppg_signal))"
      ]
    }
  ]
}