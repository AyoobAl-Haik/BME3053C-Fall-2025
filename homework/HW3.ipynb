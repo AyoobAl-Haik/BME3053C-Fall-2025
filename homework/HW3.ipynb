{
  "nbformat": 4,
  "nbformat_minor": 0,
  "metadata": {
    "colab": {
      "provenance": [],
      "authorship_tag": "ABX9TyOV2nA8q5ga1716e8zIvpRS",
      "include_colab_link": true
    },
    "kernelspec": {
      "name": "python3",
      "display_name": "Python 3"
    },
    "language_info": {
      "name": "python"
    }
  },
  "cells": [
    {
      "cell_type": "markdown",
      "metadata": {
        "id": "view-in-github",
        "colab_type": "text"
      },
      "source": [
        "<a href=\"https://colab.research.google.com/github/AyoobAl-Haik/BME3053C-Fall-2025/blob/main/homework/HW3.ipynb\" target=\"_parent\"><img src=\"https://colab.research.google.com/assets/colab-badge.svg\" alt=\"Open In Colab\"/></a>"
      ]
    },
    {
      "cell_type": "code",
      "execution_count": 23,
      "metadata": {
        "id": "J5SNdGMw8QTk"
      },
      "outputs": [],
      "source": [
        "import math\n",
        "import random\n",
        "peak_count = 0\n",
        "def peak_finder(ppg_signal):\n",
        "  ppg_signal = [1000 + 100 * math.sin(0.1 * x) + random.randint(-20, 20) for x in range(100)]\n",
        "\n",
        "  for i in range(ppg_signal):\n",
        "    if ppg_signal[i] > ppg_signal[i - 1] and ppg_signal[i] > ppg_signal[i + 1]:\n",
        "      peak_count = peak_count + 1\n",
        "  return peak_count\n",
        "\n",
        "\n"
      ]
    }
  ]
}