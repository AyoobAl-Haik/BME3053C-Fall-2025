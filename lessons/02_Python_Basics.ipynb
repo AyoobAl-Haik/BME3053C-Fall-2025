{
  "cells": [
    {
      "cell_type": "markdown",
      "metadata": {
        "id": "zxMSBUaZoKCY"
      },
      "source": [
        "# BME3053C - Computer Applications for BME\n",
        "\n",
        "<br/>\n",
        "\n",
        "<h1 align=\"center\">Python Basics - Part 1</h1>\n",
        "\n",
        "---\n",
        "\n",
        "<center><h2>Lesson 02</h2></center>\n",
        "\n",
        "\n",
        "### Original Lesson Link: [![Open In Colab](https://colab.research.google.com/assets/colab-badge.svg)](https://colab.research.google.com/github/uf-bme/BME3053C-Spring-2025/blob/main/lessons/02_Python_Basics.ipynb)"
      ]
    },
    {
      "cell_type": "markdown",
      "metadata": {},
      "source": [
        "## Learning Objectives\n",
        "\n",
        "By the end of this lesson, you will be able to:\n",
        "\n",
        "1. **Variables & Data Types**: Create and manipulate variables of different types (int, float, str, bool, list)\n",
        "2. **Type Casting**: Convert between data types and understand when it's necessary\n",
        "3. **Control Flow**: Use if/elif/else statements, loops, and conditional logic\n",
        "4. **Functions**: Create reusable functions with parameters and return values\n",
        "5. **String Operations**: Manipulate text data using built-in string methods\n",
        "6. **Lists & Slicing**: Work with sequences of data and extract specific elements\n",
        "7. **Error Handling**: Use try-except blocks to handle potential errors gracefully\n",
        "8. **Classes**: Create simple classes to organize data and functionality\n",
        "\n",
        "## Why Python for Biomedical Engineering?\n",
        "\n",
        "Python is widely used in biomedical engineering for:\n",
        "- **Data Analysis**: Processing patient data, clinical trial results, and research data\n",
        "- **Medical Imaging**: Analyzing MRI, CT, X-ray, and other medical images\n",
        "- **Signal Processing**: Processing ECG, EEG, EMG, and other biosignals\n",
        "- **Machine Learning**: Developing predictive models for diagnosis and treatment\n",
        "- **Simulation**: Modeling biological systems and medical devices\n",
        "- **Automation**: Streamlining laboratory workflows and data collection\n",
        "\n",
        "Throughout this lesson, we'll use examples relevant to biomedical engineering to help you see the practical applications of these programming concepts.\n",
        "\n",
        "---"
      ]
    },
    {
      "cell_type": "markdown",
      "metadata": {
        "id": "QPtjGMBnTz9s"
      },
      "source": [
        "# Variables\n",
        "\n"
      ]
    },
    {
      "cell_type": "markdown",
      "metadata": {
        "id": "XCOVUFhxtRQc"
      },
      "source": [
        "Variables are fundamental building blocks in programming that allow us to:\n",
        "\n",
        "* **Store data** - Save values like patient measurements, sensor readings, or calculation results\n",
        "* **Reference data** - Use descriptive names instead of remembering specific values\n",
        "* **Modify data** - Update values as conditions change (e.g., patient status, sensor readings)\n",
        "\n",
        "The `=` symbol is called the **assignment operator** and assigns the value on the right to the variable name on the left:\n",
        "\n",
        "```python\n",
        "# Examples relevant to biomedical engineering\n",
        "heart_rate = 75  # beats per minute\n",
        "patient_temperature = 98.6  # degrees Fahrenheit\n",
        "patient_name = \"John Doe\"\n",
        "is_patient_stable = True\n",
        "```\n",
        "\n",
        "**Important**: The variable name goes on the left, and the value goes on the right!"
      ]
    },
    {
      "cell_type": "markdown",
      "metadata": {
        "id": "w7K0mVsC3xlw"
      },
      "source": [
        "#### ✏️ **Exercise - Medical Variables**  \n",
        " \n",
        "Create variables for a patient's vital signs:\n",
        "1. Create a variable called `systolic_bp` and set it to 120 (systolic blood pressure)\n",
        "2. Create a variable called `diastolic_bp` and set it to 80 (diastolic blood pressure)  \n",
        "3. Create a variable called `oxygen_saturation` and set it to 98.5 (SpO2 percentage)\n",
        "4. Run the cell and check your variable explorer to see if your variables appear\n",
        "\n",
        "**Tip**: In VS Code, you can view variables by opening the \"Variables\" panel while debugging, or by using the Python extension's variable explorer."
      ]
    },
    {
      "cell_type": "code",
      "execution_count": null,
      "metadata": {},
      "outputs": [],
      "source": [
        "# Patient vital signs\n",
        "systolic_bp = 120\n",
        "diastolic_bp = 80\n",
        "oxygen_saturation = 98.5\n",
        "\n",
        "print(f\"Patient Vitals:\")\n",
        "print(f\"Blood Pressure: {systolic_bp}/{diastolic_bp} mmHg\")\n",
        "print(f\"Oxygen Saturation: {oxygen_saturation}%\")"
      ]
    },
    {
      "cell_type": "markdown",
      "metadata": {
        "id": "d8fmOow87Y3o"
      },
      "source": [
        "## [snake_case](https://en.wikipedia.org/wiki/Snake_case) Naming Convention\n"
      ]
    },
    {
      "cell_type": "markdown",
      "metadata": {
        "id": "crFbvzPKwJe_"
      },
      "source": [
        "\n",
        "**In this course we will expect everyone to use the [snake_case](https://en.wikipedia.org/wiki/Snake_case) naming convention!**\n",
        "* Describe your variables and functions using lower case words that are separated by an underscore. (i.e., ```example_number = 5```)\n",
        "\n",
        "---\n",
        "\n",
        "## **Points will be deducted if this naming convention isn't followed!**\n",
        "\n",
        "---"
      ]
    },
    {
      "cell_type": "markdown",
      "metadata": {
        "id": "42Ftnuz19d64"
      },
      "source": [
        "#### ✏️ **Exercise - Fix the Variable Names**  \n",
        "\n",
        "The variable names below don't follow proper snake_case convention. Fix them:\n",
        "\n",
        "1. Fix `randomNumber=19` to follow snake_case\n",
        "2. Fix `PatientAge=65` to follow snake_case  \n",
        "3. Fix `bloodPressure=120` to follow snake_case\n",
        "\n",
        "**Remember**: Use lowercase letters and underscores to separate words!"
      ]
    },
    {
      "cell_type": "code",
      "execution_count": null,
      "metadata": {
        "id": "b7YCzR0XwhQp"
      },
      "outputs": [],
      "source": [
        "# Fix these variable names to follow snake_case convention:\n",
        "\n",
        "# Wrong: randomNumber=19\n",
        "\n",
        "# Wrong: PatientAge=65  \n",
        "\n",
        "# Wrong: bloodPressure=120"
      ]
    },
    {
      "cell_type": "markdown",
      "metadata": {
        "id": "tDfFp1gp9ZuB"
      },
      "source": [
        "# Variable Types\n"
      ]
    },
    {
      "cell_type": "markdown",
      "metadata": {
        "id": "NDm434XL0QXn"
      },
      "source": [
        "* Variables can store data of different types\n",
        "* You will receive an error message if you try to combine variables with different types (e.g., ```var=3+\"cat\"```)\n"
      ]
    },
    {
      "cell_type": "markdown",
      "metadata": {
        "id": "OhAO_n8S4yZM"
      },
      "source": [
        "\n",
        "## [Built-in Types](https://docs.python.org/3/library/stdtypes.html)"
      ]
    },
    {
      "cell_type": "markdown",
      "metadata": {
        "id": "Jj_jdX244pKI"
      },
      "source": [
        "|Type Categories|Types|Examples|BME Applications|\n",
        "|---|---|---|---|\n",
        "|Numeric| [`int`](https://docs.python.org/3/library/functions.html#int),[`float`](https://docs.python.org/3/library/functions.html#float),[`complex`](https://docs.python.org/3/library/functions.html#complex)|`heart_rate=72`, `temperature=98.6`, `impedance=50+2j`|Patient counts, measurements, electrical signals|\n",
        "|Text|[`str`](https://docs.python.org/3/library/stdtypes.html#text-sequence-type-str)|`patient_name=\"Jane Smith\"`|Patient names, medical notes, device IDs|\n",
        "|Boolean| [`bool`](https://docs.python.org/3/library/stdtypes.html#boolean-type-bool)|`is_patient_stable=True`|Status flags, test results, device states|\n",
        "|None|[`NoneType`](https://docs.python.org/3/library/types.html#types.NoneType)|`test_result=None`|Missing data, uninitialized values|\n",
        "|Sequence|[`list`](https://docs.python.org/3/library/stdtypes.html#lists),[`tuple`](https://docs.python.org/3/library/stdtypes.html#tuples),[`range`](https://docs.python.org/3/library/stdtypes.html#ranges)|`ecg_data=[0.1,0.2]`, `coordinates=(x,y)`, `samples=range(100)`|Time series data, coordinates, sample ranges|\n",
        "|Mapping|[`dict`](https://docs.python.org/3/tutorial/datastructures.html#dictionaries)|`patient={\"name\":\"John\",\"age\":45}`|Patient records, configuration settings|\n",
        "|Set|[`set`](https://docs.python.org/3/tutorial/datastructures.html#sets),[`frozenset`](https://docs.python.org/3/library/stdtypes.html#frozenset)|`symptoms={\"fever\",\"cough\"}`, `required_tests=frozenset({\"CBC\",\"BMP\"})`|Unique collections, medical conditions|\n",
        "|Binary|[`bytes`](https://docs.python.org/3/library/stdtypes.html#bytes),[`bytearray`](https://docs.python.org/3/library/stdtypes.html#bytearray),[`memoryview`](https://docs.python.org/3/library/stdtypes.html#memoryview)|`image_data=b\"...\"`, `buffer=bytearray(512)`, `view=memoryview(data)`|Medical images, raw sensor data, memory buffers|"
      ]
    },
    {
      "cell_type": "markdown",
      "metadata": {
        "id": "_6vuTLp3mUQL"
      },
      "source": [
        "##Common Type Details"
      ]
    },
    {
      "cell_type": "markdown",
      "metadata": {
        "id": "Spc35-l-nJ2T"
      },
      "source": [
        "### **Numeric**"
      ]
    },
    {
      "cell_type": "markdown",
      "metadata": {
        "id": "YpWMj2b8mKoa"
      },
      "source": [
        "\n",
        "* [```int```](https://docs.python.org/3/library/functions.html#int): Whole numbers without decimal points\n",
        "  * Required when referencing array indices (e.g., ```var[0]``` is okay but ```var[0.0]``` isn't)\n",
        "* [```float```](https://docs.python.org/3/library/functions.html#float): Double-precision floating point numbers that can represent numbers with 15-17 significant digits of precision\n"
      ]
    },
    {
      "cell_type": "markdown",
      "metadata": {
        "id": "YuZRol3xnMnI"
      },
      "source": [
        "### **Text**"
      ]
    },
    {
      "cell_type": "markdown",
      "metadata": {
        "id": "lt_m_FZpnHzK"
      },
      "source": [
        "\n",
        "\n",
        "  * [```str```](https://docs.python.org/3/library/stdtypes.html#text-sequence-type-str):Sequences of characters that are wrapped with ```\"\"``` or ```''```\n",
        "    * The type of quotation used isn't important but you should stay consistent\n"
      ]
    },
    {
      "cell_type": "markdown",
      "metadata": {
        "id": "ykVSM2hly-2N"
      },
      "source": [
        "### **Boolean**"
      ]
    },
    {
      "cell_type": "markdown",
      "metadata": {
        "id": "dWy-lvdPy-AT"
      },
      "source": [
        "\n",
        "  * [```bool```](https://docs.python.org/3/library/stdtypes.html#boolean-type-bool): Similar to a light switch, can  either be True or False\n",
        "  * You can use type casting to convert numbers to bool and vice versa."
      ]
    },
    {
      "cell_type": "markdown",
      "metadata": {
        "id": "yz12_R7Gzyu7"
      },
      "source": [
        "### **Sequence**"
      ]
    },
    {
      "cell_type": "markdown",
      "metadata": {
        "id": "nbk9v1j8zy18"
      },
      "source": [
        "\n",
        "  * [```list```](https://docs.python.org/3/library/stdtypes.html#lists): lists of objects that can be modified after creating (lists are mutable)\n",
        "    * Elements in a list can be referenced using brackets ```[]```\n",
        "      * ```A[0]``` will reference the first element of the list (sequences start at 0 in Python and 1 in MATLAB)\n",
        "      * ```A[-1]``` will reference the last element in a list\n",
        "      * ```ints``` must be used to reference specific elements in a list (```x[0.0]``` will return an error)"
      ]
    },
    {
      "cell_type": "markdown",
      "metadata": {
        "id": "Avwzgj-B22X_"
      },
      "source": [
        "#### Checking an Object's Type\n",
        "**Python provides a ```type()``` function that can be used to check a variable's type**"
      ]
    },
    {
      "cell_type": "code",
      "execution_count": null,
      "metadata": {
        "colab": {
          "base_uri": "https://localhost:8080/"
        },
        "id": "6719Af3t3GiA",
        "outputId": "414dd7ec-fb88-4d45-87e9-2756da848bee"
      },
      "outputs": [],
      "source": [
        "# Checking types of medical data\n",
        "heart_rate = 72  # integer - whole number of beats per minute\n",
        "temperature = 98.6  # float - body temperature with decimal precision\n",
        "patient_name = \"Alice Johnson\"  # string - text data\n",
        "is_fever = True  # boolean - true/false condition\n",
        "\n",
        "print(\"Variable types in medical data:\")\n",
        "print(f\"heart_rate = {heart_rate}, type = {type(heart_rate)}\")\n",
        "print(f\"temperature = {temperature}, type = {type(temperature)}\")\n",
        "print(f\"patient_name = '{patient_name}', type = {type(patient_name)}\")\n",
        "print(f\"is_fever = {is_fever}, type = {type(is_fever)}\")"
      ]
    },
    {
      "cell_type": "markdown",
      "metadata": {
        "id": "lFjABdpS5ev4"
      },
      "source": [
        "## Type Casting"
      ]
    },
    {
      "cell_type": "markdown",
      "metadata": {
        "id": "5F0zx9Fp5rHJ"
      },
      "source": [
        "### Implicit Type Casting\n",
        "Python automatically converts data types into another when it's required for a  particular operation."
      ]
    },
    {
      "cell_type": "code",
      "execution_count": null,
      "metadata": {
        "colab": {
          "base_uri": "https://localhost:8080/"
        },
        "id": "dqNU8WB152En",
        "outputId": "b69a048e-6ff8-4ad3-828d-0857b4bc0010"
      },
      "outputs": [],
      "source": [
        "# Example: Calculating BMI (Body Mass Index)\n",
        "weight_kg = 70  # integer: weight in kilograms\n",
        "height_m = 1.75  # float: height in meters\n",
        "\n",
        "# Python automatically converts int to float when needed\n",
        "bmi = weight_kg / (height_m ** 2)\n",
        "\n",
        "print('BMI Calculation:')\n",
        "print(f'Weight: {weight_kg} kg (type: {type(weight_kg)})')\n",
        "print(f'Height: {height_m} m (type: {type(height_m)})')\n",
        "print(f'BMI: {bmi:.2f} (type: {type(bmi)})')\n",
        "\n",
        "# Notice how the result is automatically a float"
      ]
    },
    {
      "cell_type": "markdown",
      "metadata": {
        "id": "gzhQ3-vI6Idp"
      },
      "source": [
        "### Explicit Type Casting\n",
        "Explicit type casting can be used to manually convert a variable to a specific type"
      ]
    },
    {
      "cell_type": "code",
      "execution_count": null,
      "metadata": {
        "colab": {
          "base_uri": "https://localhost:8080/"
        },
        "id": "HcqXxtaH6nlJ",
        "outputId": "4a6f74c6-aaea-40aa-c211-0945310a34ba"
      },
      "outputs": [],
      "source": [
        "# Example: Processing heart rate data\n",
        "measured_heart_rate = 72.8  # float from a sensor\n",
        "target_heart_rate = 70  # integer target value\n",
        "\n",
        "# Convert float to int for comparison (rounds down)\n",
        "heart_rate_rounded = int(measured_heart_rate)\n",
        "difference = heart_rate_rounded - target_heart_rate\n",
        "\n",
        "print('Heart Rate Analysis:')\n",
        "print(f'Measured: {measured_heart_rate} bpm (type: {type(measured_heart_rate)})')\n",
        "print(f'Rounded: {heart_rate_rounded} bpm (type: {type(heart_rate_rounded)})')\n",
        "print(f'Target: {target_heart_rate} bpm (type: {type(target_heart_rate)})')\n",
        "print(f'Difference: {difference} bpm (type: {type(difference)})')"
      ]
    },
    {
      "cell_type": "markdown",
      "metadata": {
        "id": "EsYKOETd8usR"
      },
      "source": [
        "*Casting a float to an integer will always round down!*\n"
      ]
    },
    {
      "cell_type": "code",
      "execution_count": null,
      "metadata": {
        "colab": {
          "base_uri": "https://localhost:8080/"
        },
        "id": "vOC_EsrN370_",
        "outputId": "e16acd60-b822-4df3-d72c-83a5965c3ebf"
      },
      "outputs": [],
      "source": [
        "x = 5\n",
        "y = 3.8\n",
        "\n",
        "z = x + int(y)\n",
        "print('z =', z)\n",
        "print('x type =',type(x))\n",
        "print('y type =',type(y))\n",
        "print('z type =',type(z))"
      ]
    },
    {
      "cell_type": "markdown",
      "metadata": {
        "id": "IN6POyrIzP04"
      },
      "source": [
        "#### ✏️ **Exercise - Medical Data Type Casting**  \n",
        "\n",
        "Complete the following tasks:\n",
        "\n",
        "1. **Boolean Casting**: Change the value of `glucose_level` so that when cast as a `bool`, it evaluates to `False`\n",
        "   - *Hint*: What number evaluates to `False` when cast as a boolean?\n",
        "\n",
        "2. **Boolean to Number**: Cast `True` to both an `int` and `float`, then print both values\n",
        "   - What values do you get? This is useful for counting conditions (True = 1, False = 0)\n",
        "\n",
        "3. **Medical Application**: If a patient has glucose level > 100, they might have diabetes. Use boolean casting to create a simple diabetes risk indicator."
      ]
    },
    {
      "cell_type": "code",
      "execution_count": null,
      "metadata": {
        "colab": {
          "base_uri": "https://localhost:8080/"
        },
        "id": "9KyeLEbTzUPq",
        "outputId": "30cb4bfc-96e6-4014-9121-c28d062a92c8"
      },
      "outputs": [],
      "source": [
        "# Complete the exercises below:\n",
        "\n",
        "# 1. Boolean casting - change glucose_level so it evaluates to False when cast as bool\n",
        "glucose_level = # Your code here\n",
        "\n",
        "print(f\"Glucose level {glucose_level} as bool: {bool(glucose_level)}\")\n",
        "\n",
        "# 2. Boolean to number casting - cast True to both int and float\n",
        "true_as_int = # Your code here\n",
        "true_as_float = # Your code here\n",
        "\n",
        "print(f\"True as int: {true_as_int}\")\n",
        "print(f\"True as float: {true_as_float}\")\n",
        "\n",
        "# 3. Medical application - create a diabetes risk indicator\n",
        "patient_glucose = 110  # mg/dL\n",
        "\n",
        "# Your code here: create a boolean variable 'has_diabetes_risk' \n",
        "# that is True if patient_glucose > 100, False otherwise\n",
        "has_diabetes_risk = # Your code here\n",
        "\n",
        "# Your code here: convert the boolean to a risk score (0 or 1)\n",
        "risk_score = # Your code here\n",
        "\n",
        "print(f\"\\nPatient glucose: {patient_glucose} mg/dL\")\n",
        "print(f\"Diabetes risk: {has_diabetes_risk}\")\n",
        "print(f\"Risk score: {risk_score} (0 = low risk, 1 = high risk)\")"
      ]
    },
    {
      "cell_type": "markdown",
      "metadata": {},
      "source": [
        "# Functions\n",
        "\n",
        "Functions are one of the most powerful features in programming that enable you to:\n",
        "\n",
        "* **Organize code** - Group related operations together\n",
        "* **Reuse code** - Write once, use many times  \n",
        "* **Avoid repetition** - Follow the DRY principle (Don't Repeat Yourself)\n",
        "* **Make code readable** - Give meaningful names to complex operations\n",
        "* **Test easily** - Isolate functionality for easier debugging\n",
        "\n",
        "In biomedical engineering, functions are essential for:\n",
        "- **Data processing pipelines** - Standardized analysis of medical data\n",
        "- **Calculation libraries** - Reusable medical formulas and conversions\n",
        "- **Device control** - Consistent interfaces for medical equipment\n",
        "- **Quality assurance** - Repeatable validation procedures\n",
        "\n",
        "Functions are called using the function name followed by parentheses: `print('hello')`"
      ]
    },
    {
      "cell_type": "markdown",
      "metadata": {},
      "source": [
        "## Creating Functions\n",
        "\n",
        "**All code inside a function must be indented using tab or four spaces.**\n",
        "\n",
        "### Function Syntax:\n",
        "1. Begin with `def`, followed by an appropriate function name\n",
        "2. Add parentheses `()` after the function name\n",
        "3. Inside parentheses, list input arguments separated by commas (functions can have zero arguments)\n",
        "4. Add a colon `:` after the closing parentheses  \n",
        "5. Write the function body (indented)\n",
        "6. **Optional**: Add a `return` statement to output a value\n",
        "\n",
        "### Basic Function Example:\n",
        "```python\n",
        "def add_two_numbers(x, y):\n",
        "    local_var = x + y\n",
        "    return local_var\n",
        "\n",
        "print(add_two_numbers(3, 4))  # Output: 7\n",
        "```\n",
        "\n",
        "**Important**: Variables created inside functions (like `local_var`) are **local** - they only exist inside the function and won't appear in your variable explorer after the function finishes running."
      ]
    },
    {
      "cell_type": "markdown",
      "metadata": {},
      "source": [
        "#### ✏️ **Exercise - Your First Medical Function**  \n",
        "\n",
        "**Medical Context**: Create a simple function to convert body temperature between Celsius and Fahrenheit.\n",
        "\n",
        "**Task**: \n",
        "1. Copy and run the function below that adds two numbers\n",
        "2. Check if `local_var` appears in your variable explorer (it shouldn't!)\n",
        "3. Create your own function called `celsius_to_fahrenheit()` that takes a temperature in Celsius and returns it in Fahrenheit\n",
        "\n",
        "**Formula**: °F = (°C × 9/5) + 32\n",
        "\n",
        "**Test your function**: Normal body temperature is 37°C, which should convert to 98.6°F"
      ]
    },
    {
      "cell_type": "code",
      "execution_count": null,
      "metadata": {},
      "outputs": [],
      "source": [
        "# 1. Example function - adding two numbers (provided as example)\n",
        "def add_two_numbers(x, y):\n",
        "    local_var = x + y  # This variable only exists inside the function\n",
        "    return local_var\n",
        "\n",
        "# Test the example function\n",
        "result = add_two_numbers(3, 4)\n",
        "print(f\"3 + 4 = {result}\")\n",
        "\n",
        "# 2. Your task: Create a temperature conversion function\n",
        "# Complete the function below to convert Celsius to Fahrenheit\n",
        "# Formula: °F = (°C × 9/5) + 32\n",
        "\n",
        "def celsius_to_fahrenheit(celsius):\n",
        "    \"\"\"\n",
        "    Convert temperature from Celsius to Fahrenheit.\n",
        "    \n",
        "    Args:\n",
        "        celsius (float): Temperature in Celsius\n",
        "    \n",
        "    Returns:\n",
        "        float: Temperature in Fahrenheit\n",
        "    \"\"\"\n",
        "    # Your code here - implement the conversion formula\n",
        "    fahrenheit = # Complete this line\n",
        "    return fahrenheit\n",
        "\n",
        "# Test your function with these values:\n",
        "body_temp_c = 37.0  # Normal body temperature in Celsius\n",
        "fever_temp_c = 39.0  # Fever temperature\n",
        "\n",
        "# Your code here: use your function to convert the temperatures\n",
        "# body_temp_f = \n",
        "# fever_temp_f = \n",
        "\n",
        "# Uncomment these lines once you complete the function:\n",
        "# print(f\"\\nTemperature Conversion:\")\n",
        "# print(f\"{body_temp_c}°C = {body_temp_f}°F\")\n",
        "# print(f\"{fever_temp_c}°C = {fever_temp_f}°F (fever!)\")"
      ]
    },
    {
      "cell_type": "markdown",
      "metadata": {},
      "source": [
        "## [Built-in Functions](https://docs.python.org/3/library/functions.html)\n",
        "\n",
        "Python provides many built-in functions that are always available for common tasks:\n",
        "\n",
        "### **Mathematical Operations**: \n",
        "- `round()`, `sum()`, `min()`, `max()`, `abs()` - Basic math operations\n",
        "\n",
        "### **Type Conversion**: \n",
        "- `int()`, `float()`, `str()`, `list()` - Convert between data types\n",
        "\n",
        "### **String/Data Operations**: \n",
        "- `len()`, `sorted()`, `reversed()` - Work with sequences\n",
        "\n",
        "### **Input/Output**: \n",
        "- `print()`, `input()` - Display output and get user input\n",
        "\n",
        "### **Object Inspection**: \n",
        "- `type()`, `help()` - Get information about objects\n",
        "\n",
        "**Medical Example**: Built-in functions are perfect for processing vital signs data!"
      ]
    },
    {
      "cell_type": "code",
      "execution_count": null,
      "metadata": {},
      "outputs": [],
      "source": [
        "# Example: Using built-in functions with medical data\n",
        "heart_rates = [72, 68, 75, 82, 69, 77, 71]  # Daily heart rate measurements (bpm)\n",
        "\n",
        "print(\"Heart Rate Analysis Using Built-in Functions:\")\n",
        "print(f\"Measurements: {heart_rates}\")\n",
        "print(f\"Number of measurements: {len(heart_rates)}\")\n",
        "print(f\"Average heart rate: {sum(heart_rates) / len(heart_rates):.1f} bpm\")\n",
        "print(f\"Minimum heart rate: {min(heart_rates)} bpm\")\n",
        "print(f\"Maximum heart rate: {max(heart_rates)} bpm\")\n",
        "print(f\"Range: {max(heart_rates) - min(heart_rates)} bpm\")\n",
        "\n",
        "# Demonstrate rounding behavior - important for medical measurements!\n",
        "glucose_reading = 126.7  # Blood glucose in mg/dL\n",
        "print(f\"\\nBlood Glucose Reading:\")\n",
        "print(f\"Exact: {glucose_reading} mg/dL\")\n",
        "print(f\"Rounded: {round(glucose_reading)} mg/dL\")\n",
        "print(f\"Rounded to 1 decimal: {round(glucose_reading, 1)} mg/dL\")\n",
        "\n",
        "# Note: Python's round() function uses \"banker's rounding\" \n",
        "print(f\"\\nRounding Examples:\")\n",
        "print(f\"2.5 rounded = {round(2.5)}\")  # Rounds to 2 (even number)\n",
        "print(f\"3.5 rounded = {round(3.5)}\")  # Rounds to 4 (even number)"
      ]
    },
    {
      "cell_type": "markdown",
      "metadata": {},
      "source": [
        "## Function Naming Best Practices\n",
        "\n",
        "Like variables, function names should follow these rules:\n",
        "\n",
        "### **Technical Rules:**\n",
        "- Can contain **only** letters, digits, and underscores (`_`)\n",
        "- Cannot start with a digit\n",
        "- Cannot be a Python reserved word\n",
        "- Use **snake_case** convention (lowercase with underscores)\n",
        "\n",
        "### **Medical Software Guidelines:**\n",
        "- **Be descriptive**: `calculate_bmi()` not `calc()`\n",
        "- **Use verbs**: Functions *do* things - `convert_units()`, `validate_input()`, `analyze_ecg()`\n",
        "- **Be specific**: `calculate_systolic_bp()` not `calculate_bp()`\n",
        "- **Follow conventions**: `get_patient_data()`, `set_alarm_threshold()`, `is_valid_heart_rate()`\n",
        "\n",
        "### **Examples of Good Function Names:**\n",
        "```python\n",
        "def convert_celsius_to_fahrenheit(temp_c):\n",
        "def calculate_body_mass_index(weight_kg, height_m):\n",
        "def validate_blood_pressure_range(systolic, diastolic):\n",
        "def is_patient_eligible_for_study(age, condition):\n",
        "```\n",
        "\n",
        "**Medical Importance**: Clear function names are critical in healthcare software for safety, compliance, and maintainability!"
      ]
    },
    {
      "cell_type": "code",
      "execution_count": null,
      "metadata": {},
      "outputs": [],
      "source": [
        "# Show Python reserved words that cannot be used as function names\n",
        "import keyword\n",
        "\n",
        "print(\"Python Reserved Words (cannot be used as function names):\")\n",
        "print(keyword.kwlist)\n",
        "\n",
        "print(f\"\\nTotal reserved words: {len(keyword.kwlist)}\")\n",
        "print(\"\\nCommon ones to avoid: def, if, else, for, while, return, class, import, etc.\")"
      ]
    },
    {
      "cell_type": "markdown",
      "metadata": {},
      "source": [
        "## [Default Arguments in Functions](https://docs.python.org/3/tutorial/controlflow.html#default-argument-values)\n",
        "\n",
        "Default arguments allow you to create optional parameters that have predetermined values if not specified:\n",
        "\n",
        "* **Providing the argument** will replace the default with your own value\n",
        "* **Not providing the argument** will use the default value\n",
        "* **Default arguments must come after non-default arguments**\n",
        "\n",
        "**Medical Example**: Many medical calculations have standard reference values that can be defaults."
      ]
    },
    {
      "cell_type": "code",
      "execution_count": null,
      "metadata": {},
      "outputs": [],
      "source": [
        "# Example 1: Simple default argument\n",
        "def greet_patient(name=\"Patient\"):\n",
        "    \"\"\"Greet a patient with an optional name.\"\"\"\n",
        "    print(f\"Hello, {name}! Welcome to the clinic.\")\n",
        "\n",
        "# Test with and without providing the name\n",
        "greet_patient()  # Uses default: \"Patient\"\n",
        "greet_patient(\"Dr. Smith\")  # Uses provided name\n",
        "\n",
        "print()\n",
        "\n",
        "# Example 2: Medical calculation with default reference values\n",
        "def calculate_bmi(weight_kg, height_m, precision=1):\n",
        "    \"\"\"\n",
        "    Calculate Body Mass Index with optional precision.\n",
        "    \n",
        "    Args:\n",
        "        weight_kg (float): Weight in kilograms\n",
        "        height_m (float): Height in meters\n",
        "        precision (int): Decimal places for result (default: 1)\n",
        "    \n",
        "    Returns:\n",
        "        float: BMI value rounded to specified precision\n",
        "    \"\"\"\n",
        "    bmi = weight_kg / (height_m ** 2)\n",
        "    return round(bmi, precision)\n",
        "\n",
        "# Test with different precision levels\n",
        "weight = 70  # kg\n",
        "height = 1.75  # meters\n",
        "\n",
        "print(\"BMI Calculations:\")\n",
        "print(f\"Default precision: {calculate_bmi(weight, height)} kg/m²\")\n",
        "print(f\"High precision: {calculate_bmi(weight, height, 3)} kg/m²\")\n",
        "print(f\"No decimals: {calculate_bmi(weight, height, 0)} kg/m²\")\n",
        "\n",
        "# Example 3: Blood pressure categorization with default thresholds\n",
        "def categorize_blood_pressure(systolic, diastolic, \n",
        "                            normal_sys=120, normal_dia=80,\n",
        "                            high_sys=140, high_dia=90):\n",
        "    \"\"\"\n",
        "    Categorize blood pressure using configurable thresholds.\n",
        "    Default values based on American Heart Association guidelines.\n",
        "    \"\"\"\n",
        "    if systolic < normal_sys and diastolic < normal_dia:\n",
        "        return \"Normal\"\n",
        "    elif systolic < high_sys and diastolic < high_dia:\n",
        "        return \"Elevated/Pre-hypertension\"\n",
        "    else:\n",
        "        return \"High (Hypertension)\"\n",
        "\n",
        "print(f\"\\nBlood Pressure Categories:\")\n",
        "print(f\"120/80: {categorize_blood_pressure(120, 80)}\")\n",
        "print(f\"135/85: {categorize_blood_pressure(135, 85)}\")\n",
        "print(f\"150/95: {categorize_blood_pressure(150, 95)}\")\n",
        "\n",
        "# Using custom thresholds for pediatric patients\n",
        "print(f\"150/95 (pediatric thresholds): {categorize_blood_pressure(150, 95, normal_sys=110, normal_dia=70, high_sys=130, high_dia=85)}\")"
      ]
    },
    {
      "cell_type": "markdown",
      "metadata": {
        "id": "SlDPyxTXie8P"
      },
      "source": [
        "#Order of Operations\n",
        "Python follows PEMDAS rules when evaluating complex expressions"
      ]
    },
    {
      "cell_type": "markdown",
      "metadata": {
        "id": "ewnqYZt0i2ng"
      },
      "source": [
        "<center><img  src=\"https://github.com/snsie/aicc24/raw/main/graphics/pemdas.gif\" alt='Colab Features'/></center>"
      ]
    },
    {
      "cell_type": "markdown",
      "metadata": {
        "id": "sbB6iVy5kag8"
      },
      "source": [
        "#### ✏️ **Exercise - Medical Dosage Calculation**\n",
        "\n",
        "**Scenario**: You need to calculate a medication dosage using this formula: $\\frac{19 - 4^3}{5}$\n",
        "\n",
        "1. Create a function called `calculate_dosage()` that computes this expression\n",
        "2. The function should return the calculated dosage value\n",
        "3. Test your function by calling it and printing the result\n",
        "\n",
        "**Hints:**\n",
        "- Use `**` for exponentiation (not `^`)  \n",
        "- Remember PEMDAS: Parentheses, Exponents, Multiplication/Division, Addition/Subtraction\n",
        "- The expected result should be **-9.0**\n",
        "- No parameters needed for this function\n",
        "\n",
        "**Medical Context**: In real applications, dosage calculations often involve complex formulas considering patient weight, age, kidney function, etc."
      ]
    },
    {
      "cell_type": "code",
      "execution_count": null,
      "metadata": {
        "colab": {
          "base_uri": "https://localhost:8080/"
        },
        "id": "qP2vIoMQzhMh",
        "outputId": "ed0f5de4-6205-47d8-8fd0-04dd0ed23c47"
      },
      "outputs": [],
      "source": [
        "# Your task: Create the calculate_dosage() function\n",
        "# Formula: (19 - 4^3) / 5\n",
        "# Expected result: -9.0\n",
        "\n",
        "def calculate_dosage():\n",
        "    \"\"\"\n",
        "    Calculate medication dosage using the formula: (19 - 4^3) / 5\n",
        "    Returns the calculated dosage value.\n",
        "    \"\"\"\n",
        "    # Your code here: implement the calculation following PEMDAS rules\n",
        "    # Remember: use ** for exponentiation, not ^\n",
        "    \n",
        "    dosage = # Complete this calculation\n",
        "    return dosage\n",
        "\n",
        "# Test your function (uncomment the lines below once you complete the function)\n",
        "# result = calculate_dosage()\n",
        "# print(f\"Calculated dosage: {result}\")\n",
        "\n",
        "# Once your function works, uncomment these lines to verify step-by-step:\n",
        "# print(\"\\nStep-by-step verification:\")\n",
        "# print(f\"4^3 = {4**3}\")\n",
        "# print(f\"19 - 64 = {19 - 4**3}\")\n",
        "# print(f\"(-45) / 5 = {(19 - 4**3) / 5}\")"
      ]
    },
    {
      "cell_type": "markdown",
      "metadata": {
        "id": "SG-iTZ-7rF1M"
      },
      "source": [
        "### [String Methods](https://docs.python.org/3/library/stdtypes.html#string-methods)\n"
      ]
    },
    {
      "cell_type": "markdown",
      "metadata": {
        "id": "gK0nH1MnrK_P"
      },
      "source": [
        "* Python provides a variety of [String Methods](https://docs.python.org/3/library/stdtypes.html#string-methods) to make it easy modify strings.\n",
        "* String methods are built into stings and be called as shown below:\n",
        "\n"
      ]
    },
    {
      "cell_type": "code",
      "execution_count": null,
      "metadata": {
        "colab": {
          "base_uri": "https://localhost:8080/"
        },
        "id": "JkSw6MHklHJ4",
        "outputId": "d5b01120-6042-4fd7-fd0f-fa374117f686"
      },
      "outputs": [],
      "source": [
        "# Example: Cleaning patient ID data\n",
        "patient_id = '00P12345-BME00'\n",
        "\n",
        "# Remove leading and trailing zeros and hyphens for clean display\n",
        "clean_id = patient_id.strip('0').strip('-')\n",
        "print(f'Original patient ID: {patient_id}')\n",
        "print(f'Cleaned patient ID: {clean_id}')\n",
        "\n",
        "# Additional string methods useful in medical data processing\n",
        "patient_name = \"  JANE DOE  \"\n",
        "print(f'\\nOriginal name: \"{patient_name}\"')\n",
        "print(f'Cleaned name: \"{patient_name.strip().title()}\"')  # Remove spaces and proper case"
      ]
    },
    {
      "cell_type": "markdown",
      "metadata": {},
      "source": [
        "#### ✏️ **Exercise - Medical Report Text Processing**\n",
        "\n",
        "**Scenario**: You're processing medical reports and need to clean up the text.\n",
        "\n",
        "1. Use the `replace()` method to change \"abnormal findings\" to \"normal findings\" in the medical report below\n",
        "2. **Important**: The `replace()` method doesn't modify the original string - it returns a new string\n",
        "3. Store the result in a new variable and print both the original and modified versions\n",
        "\n",
        "**Hints:**\n",
        "- Method syntax: `string.replace(old_text, new_text)`\n",
        "- String methods are case-sensitive\n",
        "- Remember to assign the result to a variable to keep the changes"
      ]
    },
    {
      "cell_type": "code",
      "execution_count": null,
      "metadata": {},
      "outputs": [],
      "source": [
        "# Original medical report text\n",
        "medical_report = \"Patient examination shows abnormal findings in cardiac function.\"\n",
        "\n",
        "print(\"Original report:\")\n",
        "print(medical_report)\n",
        "\n",
        "# Your task: Use the replace() method to change \"abnormal findings\" to \"normal findings\"\n",
        "# Remember: replace() doesn't modify the original string - it returns a new string!\n",
        "\n",
        "# Your code here:\n",
        "corrected_report = # Complete this line using the replace() method\n",
        "\n",
        "print(\"\\nCorrected report:\")\n",
        "# Uncomment the line below once you complete the exercise:\n",
        "# print(corrected_report)\n",
        "\n",
        "# Demonstrate that original string is unchanged:\n",
        "# Uncomment these lines once you complete the exercise:\n",
        "# print(f\"\\nOriginal unchanged: {medical_report}\")\n",
        "# print(f\"New version: {corrected_report}\")\n",
        "\n",
        "# Bonus: Try these additional string operations for medical data\n",
        "patient_symptoms = \"fever, cough, headache\"\n",
        "# Your code here: use the split() method to convert the symptoms string to a list\n",
        "# symptom_list = \n",
        "# print(f\"\\nSymptoms as list: {symptom_list}\")"
      ]
    },
    {
      "cell_type": "markdown",
      "metadata": {},
      "source": [
        "### [Slicing](https://python-reference.readthedocs.io/en/latest/docs/brackets/slicing.html) Sequences\n"
      ]
    },
    {
      "cell_type": "markdown",
      "metadata": {},
      "source": [
        "\n",
        "You can use slicing to reference multiple elements in a sequence.\n",
        "\n",
        "```\n",
        "sequence[start:stop[:step]]\n",
        "```\n",
        "\n",
        "* **start**\n",
        "  * **(Optional)** Defaults to 0\n",
        "  * Starting index of the slice\n",
        "* **stop**\n",
        "  * **(Optional)** Defaults to ```len(sequence)```\n",
        "  * The last index (exclusive) of the slice\n",
        "  * Because ```stop``` is exclusive, ```my_list[:3]``` will return the 0th, 1st, and 2nd element.  \n",
        "* **step**\n",
        "  * **(Optional)** Step value of the slice\n",
        "  * Defaults to 1\n"
      ]
    },
    {
      "cell_type": "markdown",
      "metadata": {},
      "source": [
        "#### ✏️ **Exercise - ECG Data Slicing**  \n",
        "\n",
        "**Scenario**: You have ECG (heart rhythm) measurements taken every second. Practice slicing to extract specific time periods.\n",
        "\n",
        "Using the ECG data below, complete these tasks:\n",
        "1. **Print the last three measurements** (representing the most recent 3 seconds)\n",
        "2. **Create a new list called `peak_values`** containing only the values `[5, 8, 2]` using slicing\n",
        "   - These represent the peak readings during specific time intervals\n",
        "\n",
        "**Hint**: Remember that negative indices count from the end: `[-3:]` gives the last 3 elements"
      ]
    },
    {
      "cell_type": "code",
      "execution_count": null,
      "metadata": {},
      "outputs": [],
      "source": [
        "# ECG measurements (mV) taken every second\n",
        "ecg_data = [3, 5, 7, 8, 1, 2]\n",
        "print(f\"Full ECG data: {ecg_data}\")\n",
        "\n",
        "# Your tasks:\n",
        "\n",
        "# 1. Print the last three measurements using slicing\n",
        "# Hint: Use negative indices or slice from index 3 onwards\n",
        "last_three = # Your code here\n",
        "print(f\"Last three measurements: {last_three}\")\n",
        "\n",
        "# 2. Create peak_values containing [5, 8, 2] using slicing or indexing\n",
        "# These correspond to indices 1, 3, and 5 in the ecg_data\n",
        "# You can use individual indexing or slicing techniques\n",
        "peak_values = # Your code here\n",
        "print(f\"Peak values: {peak_values}\")\n",
        "\n",
        "# Bonus exercises (try these once you complete the main tasks):\n",
        "# - Get the first 3 values: ecg_data[:3]\n",
        "# - Get middle values (skip first and last): ecg_data[1:-1]  \n",
        "# - Get every second value: ecg_data[::2]\n",
        "\n",
        "# Uncomment these lines to try the bonus exercises:\n",
        "# print(f\"\\nBonus slicing examples:\")\n",
        "# print(f\"First 3 values: {ecg_data[:3]}\")\n",
        "# print(f\"Middle values (skip first and last): {ecg_data[1:-1]}\")\n",
        "# print(f\"Every second value: {ecg_data[::2]}\")"
      ]
    },
    {
      "cell_type": "markdown",
      "metadata": {},
      "source": [
        "### Copying Arrays\n"
      ]
    },
    {
      "cell_type": "markdown",
      "metadata": {},
      "source": [
        "* When you set one array equal to another using ```=```, you are not creating a new copy of the list. **Instead, you're creating a new reference to the same list.**\n",
        "*  **Modifying the new list will modify the old list!**\n",
        "* You can prevent this by setting the new array equal to the *elements* in the old array (i.e., list2=list1[:]), or using the copy library that is built into python.\n",
        "\n",
        "```\n",
        "import copy\n",
        "list2=copy.deepcopy(list1)\n",
        "```\n",
        "\n",
        "**This is an important thing to keep in mind when working with data structures!** Your functions may behave unexpectedly if you don't keep this in mind!\n",
        "\n"
      ]
    },
    {
      "cell_type": "code",
      "execution_count": null,
      "metadata": {},
      "outputs": [],
      "source": [
        "# Issues with setting list2 equal to list1\n",
        "list1 = [1, 2, 3]\n",
        "list2 = list1\n",
        "list2.append(4)\n",
        "\n",
        "print(list1)\n",
        "print(list2)"
      ]
    },
    {
      "cell_type": "code",
      "execution_count": null,
      "metadata": {},
      "outputs": [],
      "source": [
        "list1 = [1, 2, 3]\n",
        "import copy\n",
        "\n",
        "\n",
        "list2 = copy.deepcopy(list1)\n",
        "list2.append(4)\n",
        "\n",
        "print(list1)\n",
        "print(list2)"
      ]
    },
    {
      "cell_type": "markdown",
      "metadata": {
        "id": "NX6dWvxzWfRx"
      },
      "source": [
        "# Control Flow Tools"
      ]
    },
    {
      "cell_type": "markdown",
      "metadata": {
        "id": "MiBCUrbcW-Ru"
      },
      "source": [
        "## [```if``` Statements](https://docs.python.org/3/tutorial/controlflow.html#if-statements)"
      ]
    },
    {
      "cell_type": "markdown",
      "metadata": {
        "id": "lx4frFPOXwL0"
      },
      "source": [
        "* Allow you to execute a block of code only if a specified condition is true.\n",
        "* An ```if``` statement starts with the keyword ```if```, followed by a condition, and a colon ```:```. The indented block of code below it runs if the condition evaluates to True.\n",
        "```\n",
        "if condition1:\n",
        "    print('condition1 is',True)\n",
        "```\n",
        "* You can extend if statements with ```else``` for an alternative action if the condition is false, or use ```elif``` (short for \"else if\") to check additional conditions in sequence.\n",
        "  * If multiple ```elif``` conditions are True, only the code in the first True ```elif``` will be run\n",
        "   \n",
        "```\n",
        "x = int(input(\"Please enter an integer: \"))\n",
        "if x < 0:\n",
        "    print('Input is less than zero')\n",
        "elif x == 0:\n",
        "    print('Input equals zero')\n",
        "elif x > 0:\n",
        "    print('Input is greater than zero')\n",
        "else:\n",
        "    print(ValueError(\"x is not an integer\"))\n",
        "```\n",
        "\n",
        "* **Combining Conditions**: The ```and``` operator is used to combine multiple conditions in an if statement, requiring all conditions to be true for the overall condition to be true. For example, ```if condition1 and condition2:``` only executes the block if both condition1 and condition2 are true.\n",
        "  * ```&``` can be used instead of ```and```.\n",
        "* **Evaluating Alternatives**: The ```or``` operator allows you to execute a block of code if at least one of the conditions is true. For example, ```if condition1 or condition2:``` will run the block if either condition1 or condition2 is true.\n",
        "  * ```|``` can be used instead of ```or```.\n",
        "* **Negating Conditions**: The ```not``` keyword in an ```if``` statement is used to invert a condition, making the block of code execute only if the condition is false. For example, ```if not condition:``` will run the block if condition evaluates to False.\n"
      ]
    },
    {
      "cell_type": "markdown",
      "metadata": {
        "id": "bdHBLkTLdeJl"
      },
      "source": [
        "###Comparison Opperators"
      ]
    },
    {
      "cell_type": "markdown",
      "metadata": {
        "id": "tkdQAguSdg0_"
      },
      "source": [
        "|Operator|Definition|\n",
        "|-----|-----|\n",
        "| < | less than|\n",
        "| > | greater than |\n",
        "| == | equal to |\n",
        "| <= | less than or equal to|\n",
        "| >= | greater than or equal to |\n",
        "| != | not equal to |"
      ]
    },
    {
      "cell_type": "markdown",
      "metadata": {
        "id": "9k_qgUP1hrwq"
      },
      "source": [
        "#### ✏️ **Exercise - Age-Based Medical Assessment**\n",
        "\n",
        "**Medical Context**: Different age groups require different medical considerations and screening protocols.\n",
        "\n",
        "**Task**: Create a function called `assess_patient_age()` that:\n",
        "\n",
        "1. **Gets user input**: Ask for the patient's age using the `input()` function\n",
        "2. **Categorizes the patient**:\n",
        "   - Ages 0-12: \"pediatric patient\" \n",
        "   - Ages 13-17: \"adolescent patient\"\n",
        "   - Ages 18-64: \"adult patient\"\n",
        "   - Ages 65+: \"geriatric patient\"\n",
        "3. **Handles invalid input**: If the input isn't a valid number, display \"Invalid age entered\"\n",
        "\n",
        "**Medical Note**: Age categories help determine appropriate:\n",
        "- Medication dosages (pediatric vs adult)\n",
        "- Screening recommendations (mammograms for women 40+)\n",
        "- Treatment approaches (geriatric considerations for 65+)\n",
        "\n",
        "**Hint**: Use `int(input(\"Enter age: \"))` and wrap it in a try-except block for error handling"
      ]
    },
    {
      "cell_type": "code",
      "execution_count": null,
      "metadata": {
        "id": "-KlifLrWlzmh"
      },
      "outputs": [],
      "source": [
        "# Your task: Complete the assess_patient_age() function\n",
        "\n",
        "def assess_patient_age():\n",
        "    \"\"\"\n",
        "    Assess patient category based on age input.\n",
        "    Handles invalid input gracefully.\n",
        "    \"\"\"\n",
        "    try:\n",
        "        # Get age input from user\n",
        "        age = int(input(\"Enter patient age: \"))\n",
        "        \n",
        "        # Your code here: Add validation for negative ages and unrealistic ages (>150)\n",
        "        \n",
        "        # Your code here: Add if/elif/else statements to categorize by age:\n",
        "        # - Ages 0-12: \"pediatric patient\" \n",
        "        # - Ages 13-17: \"adolescent patient\"\n",
        "        # - Ages 18-64: \"adult patient\" \n",
        "        # - Ages 65+: \"geriatric patient\"\n",
        "        \n",
        "        # Your code here: Print the results including:\n",
        "        # - Patient age\n",
        "        # - Category \n",
        "        # - Clinical note (add appropriate notes for each category)\n",
        "        \n",
        "    except ValueError:\n",
        "        print(\"Invalid age entered: Please enter a valid number\")\n",
        "\n",
        "# Test your function (uncomment the line below once you complete it)\n",
        "# assess_patient_age()\n",
        "\n",
        "# For testing without user input, here's a demo function you can complete:\n",
        "def demo_age_assessment():\n",
        "    \"\"\"Test the age assessment logic with sample data\"\"\"\n",
        "    test_ages = [5, 15, 35, 70, -5]\n",
        "    \n",
        "    for age in test_ages:\n",
        "        print(f\"\\nTesting age: {age}\")\n",
        "        # Your code here: Add the same logic as in assess_patient_age()\n",
        "        # but without user input - just use the age from test_ages\n",
        "\n",
        "# Uncomment to test your demo function:\n",
        "# demo_age_assessment()"
      ]
    },
    {
      "cell_type": "markdown",
      "metadata": {
        "id": "91LckqTYe2DW"
      },
      "source": [
        "###  Conditions > 2\n",
        "* If more than two conditions are required to be true for some code to run, then parentheses ```()``` should be used to group conditions. For example, ```if condition1 and (condition2 or not condition3):``` enables nuanced decision-making by combining and nesting conditions within a single statement.\n",
        "* Parentheses are not required if all conditions need to be true (```condition1 and condition2 and condition3```)  or only one condition needs to be true (```condition1 or condition2 or condition3```)\n"
      ]
    },
    {
      "cell_type": "markdown",
      "metadata": {
        "id": "Pa5ihhEph_2A"
      },
      "source": [
        "#### ✏️ **Exercise - Medical Treatment Qualification**\n",
        "\n",
        "**Medical Scenario**: You're developing a system to determine if a patient qualifies for an experimental cardiac treatment. The qualification criteria are:\n",
        "\n",
        "**Primary Requirements:**\n",
        "* Patient must have an ejection fraction ≥ 50% (heart pumping efficiency), **AND**\n",
        "\n",
        "**Secondary Requirements (at least one must be true):**\n",
        "* Patient has ≥ 2 risk factors (smoking, diabetes, hypertension, etc.), **OR**  \n",
        "* Patient has an ejection fraction ≥ 60% (exceptional heart function)\n",
        "\n",
        "**Task**: Write a function `check_treatment_qualification()` that:\n",
        "1. Takes `ejection_fraction` and `risk_factors` as parameters\n",
        "2. Returns `True` if the patient qualifies, `False` otherwise\n",
        "3. Prints the qualification status and reasoning\n",
        "\n",
        "**Medical Context**: Ejection fraction measures how much blood the heart pumps with each beat. Normal is 50-70%."
      ]
    },
    {
      "cell_type": "code",
      "execution_count": null,
      "metadata": {
        "id": "08ZofhlsXQ-B"
      },
      "outputs": [],
      "source": [
        "# Your task: Complete the check_treatment_qualification function\n",
        "\n",
        "def check_treatment_qualification(ejection_fraction, risk_factors):\n",
        "    \"\"\"\n",
        "    Determine if a patient qualifies for experimental cardiac treatment.\n",
        "    \n",
        "    Args:\n",
        "        ejection_fraction (float): Heart pumping efficiency percentage\n",
        "        risk_factors (int): Number of cardiac risk factors\n",
        "    \n",
        "    Returns:\n",
        "        bool: True if qualified, False otherwise\n",
        "    \"\"\"\n",
        "    \n",
        "    # Your code here: Implement the qualification logic\n",
        "    # Primary requirement: ejection fraction >= 50%\n",
        "    meets_primary = # Your code here\n",
        "    \n",
        "    # Secondary requirements: >= 2 risk factors OR ejection fraction >= 60%\n",
        "    meets_secondary = # Your code here (use parentheses for complex conditions)\n",
        "    \n",
        "    # Overall qualification: Primary AND Secondary\n",
        "    qualifies = # Your code here\n",
        "    \n",
        "    # Your code here: Print detailed reasoning showing:\n",
        "    # - Ejection Fraction status\n",
        "    # - Risk Factors status  \n",
        "    # - High EF Bonus status\n",
        "    # - Secondary requirement status\n",
        "    # - Final qualification result\n",
        "    \n",
        "    return qualifies\n",
        "\n",
        "# Test cases - uncomment these once you complete the function:\n",
        "# print(\"=== Test Case 1: High EF, Low Risk ===\")\n",
        "# result1 = check_treatment_qualification(ejection_fraction=65, risk_factors=1)\n",
        "\n",
        "# print(\"\\n=== Test Case 2: Normal EF, High Risk ===\")  \n",
        "# result2 = check_treatment_qualification(ejection_fraction=55, risk_factors=3)\n",
        "\n",
        "# print(\"\\n=== Test Case 3: Low EF ===\")\n",
        "# result3 = check_treatment_qualification(ejection_fraction=45, risk_factors=2)\n",
        "\n",
        "# print(\"\\n=== Test Case 4: Borderline Case ===\")\n",
        "# result4 = check_treatment_qualification(ejection_fraction=50, risk_factors=2)"
      ]
    },
    {
      "cell_type": "markdown",
      "metadata": {
        "id": "NDz4Cd2LaVoX"
      },
      "source": [
        "## [```match``` Statements](https://docs.python.org/3/tutorial/controlflow.html#match-statements)"
      ]
    },
    {
      "cell_type": "markdown",
      "metadata": {
        "id": "PdSxiYxVhPm9"
      },
      "source": [
        "* The ```match``` statements can be used to handle multiple conditions by matching the expression against various patterns defined in ```case``` clauses.\n",
        "\n",
        "```\n",
        "def http_error(status):\n",
        "    match status:\n",
        "        case 400:\n",
        "            return \"Bad request\"\n",
        "        case 404:\n",
        "            return \"Not found\"\n",
        "        case 418:\n",
        "            return \"I'm a teapot\"\n",
        "        case _:\n",
        "            return \"Something's wrong with the internet\"\n",
        "```"
      ]
    },
    {
      "cell_type": "markdown",
      "metadata": {
        "id": "CLLyX1BGmnI5"
      },
      "source": [
        "##```for``` Statements"
      ]
    },
    {
      "cell_type": "markdown",
      "metadata": {
        "id": "ycZI-uocms78"
      },
      "source": [
        "* **Iterating Over Sequences:** A ```for``` loop allows you to iterate over a sequence (like a list, tuple, dictionary, set, or string), executing a block of code for each item in the sequence. This is useful for processing items in a collection one by one.\n",
        "\n",
        "* **Range-Based Loops:** You can use the ```range()``` function in conjunction with a for loop to iterate over a sequence of numbers, which is helpful for repeating actions a specific number of times or when indexing is needed.\n",
        "\n",
        "* **Automatic Unpacking:** In a for loop, Python can automatically unpack elements if they are iterable, like tuples. For example, for key, value in dictionary.items(): lets you directly access the key and value in each iteration, simplifying code that works with pairs of items.\n",
        "\n"
      ]
    },
    {
      "cell_type": "code",
      "execution_count": null,
      "metadata": {
        "id": "ytrs0Tx22CSw"
      },
      "outputs": [],
      "source": [
        "names=['jack','jill','joe','suzan']\n",
        "for name in names:\n",
        "    print(name)"
      ]
    },
    {
      "cell_type": "markdown",
      "metadata": {
        "id": "xdNGyQzVnyO5"
      },
      "source": [
        "#### ✏️ **Exercise - Blood Pressure Conversion**\n",
        "\n",
        "**Medical Context**: Blood pressure monitors sometimes report values in different units. You need to convert a series of systolic blood pressure readings from mmHg to kPa (kilopascals).\n",
        "\n",
        "**Conversion**: 1 mmHg = 0.133322 kPa\n",
        "\n",
        "**Task**: Create a function `convert_bp_to_kpa()` that:\n",
        "1. **Input**: Takes a list of blood pressure values (in mmHg)\n",
        "2. **Output**: Returns a list with values converted to kPa (rounded to 2 decimal places)\n",
        "3. **Error Handling**: Returns an error message if the input is invalid\n",
        "\n",
        "**Medical Note**: Normal systolic BP is 90-120 mmHg (12.0-16.0 kPa)\n",
        "\n",
        "**Hints:**\n",
        "- Use a for loop to process each value\n",
        "- Start with an empty list: `kpa_values = []`\n",
        "- Use `append()` to add converted values\n",
        "- Use `round(value, 2)` for 2 decimal places"
      ]
    },
    {
      "cell_type": "code",
      "execution_count": null,
      "metadata": {
        "id": "0sclM9v0nuFd"
      },
      "outputs": [],
      "source": [
        "# Your task: Complete the convert_bp_to_kpa function\n",
        "\n",
        "def convert_bp_to_kpa(bp_mmhg_list):\n",
        "    \"\"\"\n",
        "    Convert blood pressure readings from mmHg to kPa.\n",
        "    \n",
        "    Args:\n",
        "        bp_mmhg_list (list): Blood pressure values in mmHg\n",
        "    \n",
        "    Returns:\n",
        "        list or str: Converted values in kPa, or error message\n",
        "    \"\"\"\n",
        "    # Conversion factor: 1 mmHg = 0.133322 kPa\n",
        "    mmhg_to_kpa = 0.133322\n",
        "    \n",
        "    # Your code here: Add input validation\n",
        "    # Check if input is a list, if it's empty, etc.\n",
        "    \n",
        "    # Your code here: Create empty list for results\n",
        "    kpa_values = # Your code here\n",
        "    \n",
        "    try:\n",
        "        # Your code here: Use a for loop to process each blood pressure value\n",
        "        # For each bp_value in bp_mmhg_list:\n",
        "        #   - Validate it's a number\n",
        "        #   - Check if it's in reasonable range (30-300 mmHg)\n",
        "        #   - Convert using: bp_value * mmhg_to_kpa\n",
        "        #   - Round to 2 decimal places\n",
        "        #   - Append to kpa_values list\n",
        "        \n",
        "        # Your code here: Return the converted values\n",
        "        \n",
        "    except (ValueError, TypeError):\n",
        "        return \"Error: All values must be valid numbers\"\n",
        "\n",
        "# Test data\n",
        "bp_readings_mmhg = [120, 118, 130, 125, 135]\n",
        "print(\"Original BP readings (mmHg):\", bp_readings_mmhg)\n",
        "\n",
        "# Test your function (uncomment once completed):\n",
        "# bp_readings_kpa = convert_bp_to_kpa(bp_readings_mmhg)\n",
        "# print(\"Converted BP readings (kPa):\", bp_readings_kpa)\n",
        "\n",
        "# Advanced: Create a medical report (uncomment once function works):\n",
        "# if isinstance(bp_readings_kpa, list):\n",
        "#     print(\"\\nMedical Report:\")\n",
        "#     print(\"Systolic Blood Pressure Readings:\")\n",
        "#     print(\"-\" * 35)\n",
        "#     for i, (mmhg, kpa) in enumerate(zip(bp_readings_mmhg, bp_readings_kpa), 1):\n",
        "#         status = \"Normal\" if 12.0 <= kpa <= 16.0 else \"Abnormal\"\n",
        "#         print(f\"Reading {i}: {mmhg} mmHg = {kpa} kPa ({status})\")\n",
        "\n",
        "# Test error handling (uncomment to test):\n",
        "# print(\"\\n=== Error Handling Tests ===\")\n",
        "# print(\"Empty list:\", convert_bp_to_kpa([]))\n",
        "# print(\"Invalid input:\", convert_bp_to_kpa(\"not a list\"))\n",
        "# print(\"Invalid value:\", convert_bp_to_kpa([120, \"invalid\", 130]))"
      ]
    },
    {
      "cell_type": "markdown",
      "metadata": {
        "id": "6WixXh_D48jK"
      },
      "source": [
        "\n",
        "\n",
        " ### The [```range```](https://docs.python.org/3/tutorial/controlflow.html#the-range-function) Function\n",
        "\n",
        " Immutable sequence of ordered numbers that is commonly used to loop through code a specific number of times in [```for```](https://docs.python.org/3/reference/compound_stmts.html#for) loops\n",
        "\n",
        "* The arguments provided when creating a ```range``` object can be used to set a ```start```, a ```stop```, and a ```step``` interval when creating an ordered list of integers\n",
        "  * Will iterate from\n",
        "  * ```start```: where the sequence will begin (inclusive)\n",
        "    * Defaults to 0\n",
        "  * ```stop```: where the sequence will begin (exclusive)\n",
        "    * No default value\n",
        "  * ```step```:\n",
        "    * defaults to 1\n",
        "    * cannot be 0\n",
        "* The number of arguments provided affects the way they are interpreted.\n",
        "  * ```range(stop)```: Providing a single argument will set the ```stop``` and set ```start``` and ```step``` to their default values.\n",
        "  *  ```range(start,stop)```: Providing two variables will set ```start``` and ```stop```. ```step``` will be set to 1\n",
        "    * prividing a ```stop``` that is higher than the  histep and a single argument will set the ```stop``` and set ```start``` and ```step``` to their default values."
      ]
    },
    {
      "cell_type": "code",
      "execution_count": null,
      "metadata": {
        "id": "MnbaavLBrkB1"
      },
      "outputs": [],
      "source": [
        "for i in range(5):\n",
        "  print(i)"
      ]
    },
    {
      "cell_type": "code",
      "execution_count": null,
      "metadata": {
        "id": "7VepGNCAVA0M"
      },
      "outputs": [],
      "source": [
        "#From: https://docs.python.org/3/library/stdtypes.html#ranges\n",
        "print(list(range(5)),'= range(5)')\n",
        "\n",
        "print(list(range(1,5)),'= range(1,5)')\n",
        "print(list(range(0, 5, 2)),'= range(0, 5, 2)')\n",
        "print(list(range(0, 10, 3)),'= range(0, 10, 3)')\n",
        "print(list(range(0, -10, -1)),'= range(0, -10, -1)')\n",
        "print(list(range(0)), '= range(0)')\n",
        "print(list(range(4, 2)),'= range(4, 2)')\n"
      ]
    },
    {
      "cell_type": "markdown",
      "metadata": {
        "id": "5VIEgSzypiKM"
      },
      "source": [
        "### ✏️ **Exercise - Respiratory Analysis**\n",
        "\n",
        "**Clinical Scenario**: You're monitoring a patient's breathing patterns. The data represents breath counts over **30-second intervals**.\n",
        "\n",
        "**Medical Context**:\n",
        "- **Normal respiration rate**: 12-20 breaths per minute\n",
        "- **Tachypnea**: >20 breaths per minute (may indicate respiratory distress)\n",
        "- **Bradypnea**: <12 breaths per minute (may indicate respiratory depression)\n",
        "\n",
        "**Your Task**:\n",
        "1. **Convert** each 30-second measurement to breaths per minute (multiply by 2)\n",
        "2. **Calculate** how many total minutes the patient experienced tachypnea (>20 bpm)\n",
        "3. **Use** a for loop with `range()` to process the data by index\n",
        "\n",
        "**Data**: 10 measurements, each representing a 30-second interval (total = 5 minutes)\n",
        "\n",
        "**Expected Output**: Total minutes of tachypnea and identification of concerning periods"
      ]
    },
    {
      "cell_type": "code",
      "execution_count": null,
      "metadata": {
        "id": "nEpeifrYqqtv"
      },
      "outputs": [],
      "source": [
        "# Breath counts over 30-second intervals\n",
        "breath_count_30sec = [10, 8, 14, 9, 10, 10, 9, 11, 10, 9]\n",
        "\n",
        "print(\"=== Respiratory Rate Analysis ===\")\n",
        "print(f\"Data: {len(breath_count_30sec)} measurements over 30-second intervals\")\n",
        "print(f\"Total monitoring time: {len(breath_count_30sec) * 0.5} minutes\")\n",
        "\n",
        "# Your task: Analyze the respiratory data\n",
        "\n",
        "# Variables to track results\n",
        "tachypnea_minutes = 0\n",
        "concerning_periods = []\n",
        "\n",
        "# Your code here: Use a for loop with range() to process each measurement by index\n",
        "# For i in range(len(breath_count_30sec)):\n",
        "#   1. Convert 30-second count to breaths per minute (multiply by 2)\n",
        "#   2. Calculate time period for this measurement (i*0.5 to (i+1)*0.5 minutes)\n",
        "#   3. Classify the respiratory rate:\n",
        "#      - > 20 bpm: Tachypnea (add 0.5 to tachypnea_minutes)\n",
        "#      - < 12 bpm: Bradypnea \n",
        "#      - 12-20 bpm: Normal\n",
        "#   4. Print the analysis for each interval\n",
        "#   5. Add concerning periods to the concerning_periods list\n",
        "\n",
        "# Your code here - implement the for loop\n",
        "\n",
        "# Summary report (uncomment once you complete the analysis):\n",
        "# print(f\"\\n=== Clinical Summary ===\")\n",
        "# print(f\"Total time with tachypnea (>20 bpm): {tachypnea_minutes} minutes\")\n",
        "# print(f\"Percentage of time with tachypnea: {(tachypnea_minutes / (len(breath_count_30sec) * 0.5)) * 100:.1f}%\")\n",
        "\n",
        "# if concerning_periods:\n",
        "#     print(f\"\\n⚠️  Concerning periods detected:\")\n",
        "#     for period, rate in concerning_periods:\n",
        "#         concern_type = \"High respiratory rate\" if rate > 20 else \"Low respiratory rate\"\n",
        "#         print(f\"  • {period}: {rate} bpm ({concern_type})\")\n",
        "# else:\n",
        "#     print(\"\\n✓ No concerning respiratory rates detected\")\n",
        "\n",
        "# Bonus: Calculate statistics (uncomment once main analysis is complete):\n",
        "# all_rates = [breath_count * 2 for breath_count in breath_count_30sec]\n",
        "# avg_rate = sum(all_rates) / len(all_rates)\n",
        "# max_rate = max(all_rates)\n",
        "# min_rate = min(all_rates)\n",
        "\n",
        "# print(f\"\\n=== Statistical Summary ===\")\n",
        "# print(f\"Average respiratory rate: {avg_rate:.1f} bpm\")\n",
        "# print(f\"Maximum rate: {max_rate} bpm\")\n",
        "# print(f\"Minimum rate: {min_rate} bpm\")\n",
        "# print(f\"Normal range: 12-20 bpm\")"
      ]
    },
    {
      "cell_type": "markdown",
      "metadata": {
        "id": "H_pHRfz7zazG"
      },
      "source": [
        "## Continue and Break Statements"
      ]
    },
    {
      "cell_type": "markdown",
      "metadata": {
        "id": "oiSqHf8xzqE7"
      },
      "source": [
        "\n",
        "* **continue Statement:** Skips the current iteration of a loop and moves directly to the next iteration, effectively ignoring the remaining code within the loop for that iteration.\n",
        "\n",
        "* **break Statement:** Exits the loop entirely, terminating any further iterations, and proceeds with the code following the loop. It's often used when a certain condition is met and no further processing is needed within the loop."
      ]
    },
    {
      "cell_type": "code",
      "execution_count": null,
      "metadata": {
        "id": "fBoeMcwTzzxa"
      },
      "outputs": [],
      "source": [
        "for i in range(8):\n",
        "  if i < 2:\n",
        "    continue\n",
        "  if i < 4:\n",
        "    print('i =', i)\n",
        "    continue\n",
        "  break\n",
        "print('final i =',i)"
      ]
    },
    {
      "cell_type": "markdown",
      "metadata": {
        "id": "--CUyZnp0Mw-"
      },
      "source": [
        "### ✏️**Exercise**\n",
        "\n",
        "In this exercise, you will simulate the process of monitoring and filtering ECG (electrocardiogram) signal data. Your goal is to analyze the signal for anomalies while filtering out noise. You will use a ```for``` loop to iterate through the data, a ```continue``` statement to skip over noisy data, and a ```break``` statement to stop the analysis if a critical anomaly is detected.\n",
        "\n",
        "You have a list of ECG signal values representing the heart's electrical activity over time. The ECG data may contain some noisy values (e.g., values below 0 or above 200), which should be skipped. If a critical anomaly is detected (e.g., a sudden drop in the signal value **below** 30), the analysis should stop immediately.\n",
        "\n",
        "1. Print each valid ECG value being analyzed and, if the loop is stopped, print a message indicating that a critical anomaly was detected."
      ]
    },
    {
      "cell_type": "code",
      "execution_count": null,
      "metadata": {
        "id": "W8kryIs90YUT"
      },
      "outputs": [],
      "source": [
        "ecg_values = [120, 118, -10, 130, 210, 30, 25, 75, 180, 45, 220]\n"
      ]
    },
    {
      "cell_type": "markdown",
      "metadata": {
        "id": "aBht6-sdIgzI"
      },
      "source": [
        "## ```while``` Statements\n"
      ]
    },
    {
      "cell_type": "markdown",
      "metadata": {
        "id": "L3qFvZgKlrQt"
      },
      "source": [
        "* Repeatedly executes a block of code as long as a specified condition remains true.\n",
        "* Often used when the number of iterations is not known in advance."
      ]
    },
    {
      "cell_type": "code",
      "execution_count": null,
      "metadata": {
        "id": "3GdFBntylvIF"
      },
      "outputs": [],
      "source": [
        "counter = 0\n",
        "while counter < 5:\n",
        "    print(counter)\n",
        "    counter += 1\n",
        "\n",
        "print('final counter',counter)"
      ]
    },
    {
      "cell_type": "markdown",
      "metadata": {
        "id": "_KDD6GUgv7NY"
      },
      "source": [
        "### ✏️**Exercise**\n",
        "\n",
        "In this exercise, you will simulate monitoring blood glucose levels over time. The goal is to continuously check the glucose level and stop monitoring once the glucose level falls within a healthy range.\n",
        "\n",
        "You have a sensor that measures blood glucose levels every minute. Initially, the blood glucose level is above the healthy range, and your task is to continuously check the glucose level until it falls within the desired range (70 to 120 mg/dL). Each time you check, the glucose level decreases by a random amount (simulating the effect of insulin or natural body regulation).\n",
        "\n",
        "1. Set a variable equal to an initial glucose level of 200.\n",
        "2. Simulate a decrease in glucose level by subtracting a random value between 5 and 15 mg/dL.\n",
        "3. Use a ```while``` loop to simulate the continuous monitoring of glucose levels.\n",
        "4. Report how long (in minutes) it took glucose levels to reach a normal range and the glucose level that was measured to be within the expected range.\n",
        "\n",
        "* **Hint #1:** [```random.randint```](https://docs.python.org/3/library/random.html) can be used to simulate a random integer. Look up the function to see how to specify an integer range.\n",
        "* **Hint #2:** Make sure the ```while``` loop is false once the measured glucose level is within the desired range.  \n"
      ]
    },
    {
      "cell_type": "code",
      "execution_count": null,
      "metadata": {
        "id": "2xrn8Z1GIhRD"
      },
      "outputs": [],
      "source": [
        "import random\n",
        "\n",
        "random.seed(10)\n"
      ]
    },
    {
      "cell_type": "markdown",
      "metadata": {
        "id": "D59PB4COk6PL"
      },
      "source": [
        "# [Handling Exceptions](https://docs.python.org/3/tutorial/errors.html#handling-exceptions)\n",
        " * *try-except* blocks are used to handle exceptions (errors) that may occur during the execution of a program. This helps prevent the program from crashing and allows you to manage errors gracefully.\n",
        "\n",
        "* The code that might cause an exception is placed inside the try block. If an exception occurs, the program immediately jumps to the corresponding except block, where you can define how to handle the error.\n",
        "\n"
      ]
    },
    {
      "cell_type": "code",
      "execution_count": null,
      "metadata": {
        "id": "Zp--4MYHmMgq"
      },
      "outputs": [],
      "source": [
        "def get_patient_heart_rate():\n",
        "    \"\"\"\n",
        "    Safely get heart rate input from user with error handling.\n",
        "    Medical context: Heart rate should be 40-220 bpm for humans.\n",
        "    \"\"\"\n",
        "    try:\n",
        "        # Prompt the user to enter heart rate\n",
        "        user_input = input(\"Enter patient's heart rate (bpm): \")\n",
        "        \n",
        "        # Attempt to convert the input to an integer\n",
        "        heart_rate = int(user_input)\n",
        "        \n",
        "        # Validate medical range\n",
        "        if heart_rate < 40:\n",
        "            print(\"⚠️  Warning: Bradycardia detected (heart rate < 40 bpm)\")\n",
        "        elif heart_rate > 220:\n",
        "            print(\"⚠️  Warning: Extreme tachycardia (heart rate > 220 bpm)\")\n",
        "        elif heart_rate > 100:\n",
        "            print(\"ℹ️  Note: Tachycardia (heart rate > 100 bpm)\")\n",
        "        elif heart_rate < 60:\n",
        "            print(\"ℹ️  Note: Bradycardia (heart rate < 60 bpm)\")\n",
        "        else:\n",
        "            print(\"✓ Normal heart rate range (60-100 bpm)\")\n",
        "            \n",
        "    except ValueError:\n",
        "        print(\"❌ Error: Please enter a valid number for heart rate.\")\n",
        "        print(\"Example: Enter '72' for 72 beats per minute\")\n",
        "        return None\n",
        "    else:\n",
        "        print(f\"✓ Successfully recorded heart rate: {heart_rate} bpm\")\n",
        "        return heart_rate\n",
        "\n",
        "# Example usage (commented out to avoid input prompts)\n",
        "# heart_rate = get_patient_heart_rate()\n",
        "\n",
        "# Demo with simulated inputs\n",
        "def demo_heart_rate_validation():\n",
        "    \"\"\"Demonstrate heart rate validation with test values\"\"\"\n",
        "    test_inputs = ['72', '45', '120', '300', 'abc', '-10']\n",
        "    \n",
        "    print(\"=== Heart Rate Validation Demo ===\")\n",
        "    for test_input in test_inputs:\n",
        "        print(f\"\\nTesting input: '{test_input}'\")\n",
        "        try:\n",
        "            heart_rate = int(test_input)\n",
        "            if heart_rate < 0:\n",
        "                print(\"❌ Error: Heart rate cannot be negative\")\n",
        "            elif heart_rate < 40:\n",
        "                print(f\"⚠️  Warning: Severe bradycardia ({heart_rate} bpm)\")\n",
        "            elif heart_rate > 220:\n",
        "                print(f\"⚠️  Warning: Extreme tachycardia ({heart_rate} bpm)\")\n",
        "            elif heart_rate > 100:\n",
        "                print(f\"ℹ️  Tachycardia detected ({heart_rate} bpm)\")\n",
        "            elif heart_rate < 60:\n",
        "                print(f\"ℹ️  Bradycardia detected ({heart_rate} bpm)\")\n",
        "            else:\n",
        "                print(f\"✓ Normal heart rate ({heart_rate} bpm)\")\n",
        "        except ValueError:\n",
        "            print(\"❌ Error: Invalid input - please enter a number\")\n",
        "\n",
        "# Run the demonstration\n",
        "demo_heart_rate_validation()"
      ]
    },
    {
      "cell_type": "markdown",
      "metadata": {},
      "source": [
        "## [Classes in Python](https://docs.python.org/3/tutorial/classes.html)\n",
        "\n",
        "* Classes are used to create objects that bundle data and functionality together\n",
        "* Classes can have attributes (variables) and methods (functions)\n",
        "* The `__init__` method is a special method that initializes a new object\n",
        "* The `self` parameter refers to the instance being created\n"
      ]
    },
    {
      "cell_type": "markdown",
      "metadata": {},
      "source": [
        "#### Here's a basic class example:\n",
        "\n",
        "```\n",
        "class Person:\n",
        "    def __init__(self, name, age):\n",
        "        self.name = name\n",
        "        self.age = age\n",
        "    \n",
        "    def introduce(self):\n",
        "        print(f\"Hi, I'm {self.name} and I'm {self.age} years old.\")\n",
        "\n",
        "# Create and use a Person object\n",
        "person = Person(\"Alice\", 25)\n",
        "person.introduce()\n",
        "```"
      ]
    },
    {
      "cell_type": "markdown",
      "metadata": {},
      "source": [
        "### ✏️ **Exercise - Patient Management System**\n",
        "\n",
        "**Medical Context**: In healthcare, we often need to track patient information and update it over time (age changes, new treatments, etc.).\n",
        "\n",
        "**Task**: Create a `Patient` class that manages basic patient information:\n",
        "\n",
        "**Class Requirements**:\n",
        "1. **`__init__` method**: Takes `name`, `age`, and `patient_id` as parameters\n",
        "2. **`have_birthday()` method**: Increments the patient's age by 1 year\n",
        "3. **`introduce()` method**: Prints patient information in a medical format\n",
        "4. **`update_age(new_age)` method**: Updates age directly (for corrections)\n",
        "\n",
        "**Testing Requirements**:\n",
        "1. Create a patient named \"Sarah Johnson\", age 34, ID \"P001\"\n",
        "2. Create another patient named \"Michael Chen\", age 67, ID \"P002\"  \n",
        "3. Have Sarah celebrate a birthday\n",
        "4. Call introduce() for both patients to display their information\n",
        "\n",
        "**Expected Output Format**:\n",
        "```\n",
        "Patient ID: P001\n",
        "Name: Sarah Johnson  \n",
        "Age: 35 years\n",
        "```"
      ]
    },
    {
      "cell_type": "code",
      "execution_count": null,
      "metadata": {},
      "outputs": [],
      "source": [
        "# Exercise 10: Create a MedicalDevice class for tracking device information\n",
        "\n",
        "# Your task: Complete the MedicalDevice class below\n",
        "\n",
        "class MedicalDevice:\n",
        "    def __init__(self, device_name, model, manufacturer, serial_number, calibration_date):\n",
        "        # Your code here: Initialize all the instance attributes\n",
        "        pass\n",
        "    \n",
        "    def display_info(self):\n",
        "        # Your code here: Print formatted device information\n",
        "        # Include device name, model, manufacturer, and serial number\n",
        "        pass\n",
        "    \n",
        "    def check_calibration_status(self, current_date):\n",
        "        # Your code here: Calculate days since last calibration\n",
        "        # Print calibration status and whether recalibration is needed\n",
        "        # Hint: If days since calibration > 365, recommend recalibration\n",
        "        pass\n",
        "    \n",
        "    def update_calibration(self, new_date):\n",
        "        # Your code here: Update the calibration date\n",
        "        # Print confirmation message\n",
        "        pass\n",
        "\n",
        "# Your code here: Create instances of MedicalDevice and test the methods\n",
        "\n",
        "# Test with these devices:\n",
        "# 1. ECG Monitor, Model: \"CardioMax Pro\", Manufacturer: \"BioMedTech\", \n",
        "#    Serial: \"ECG2023-001\", Last calibration: \"2023-01-15\"\n",
        "# 2. Blood Pressure Cuff, Model: \"PressureGuard\", Manufacturer: \"VitalSigns Inc\", \n",
        "#    Serial: \"BP2023-045\", Last calibration: \"2023-08-20\"\n",
        "\n",
        "# Your code here - create device instances\n",
        "\n",
        "# Your code here - test display_info() method for both devices\n",
        "\n",
        "# Your code here - check calibration status (use \"2024-01-20\" as current date)\n",
        "\n",
        "# Your code here - update calibration for the ECG monitor to \"2024-01-20\"\n",
        "\n",
        "# Your code here - verify the calibration update worked"
      ]
    },
    {
      "cell_type": "markdown",
      "metadata": {},
      "source": [
        "### Class and Instance Variables\n",
        "\n",
        "* Class variables are shared by all instances of a class.\n",
        "* Instance variables are unique to each instance of a class.\n"
      ]
    },
    {
      "cell_type": "markdown",
      "metadata": {},
      "source": [
        "```\n",
        "class Dog:\n",
        "\n",
        "    kind = 'canine'         # class variable shared by all instances\n",
        "\n",
        "    def __init__(self, name):\n",
        "        self.name = name    # instance variable unique to each instance\n",
        "\n",
        ">>> d = Dog('Fido')\n",
        ">>> e = Dog('Buddy')\n",
        ">>> d.kind                  # shared by all dogs\n",
        "'canine'\n",
        ">>> e.kind                  # shared by all dogs\n",
        "'canine'\n",
        ">>> d.name                  # unique to d\n",
        "'Fido'\n",
        ">>> e.name                  # unique to e\n",
        "'Buddy'\n",
        "```"
      ]
    },
    {
      "cell_type": "markdown",
      "metadata": {},
      "source": [
        "### Mistaken Use of Class Variables\n",
        "\n",
        "* Class variables are shared by all instances of a class.\n",
        "* If you mistakenly use a class variable instead of an instance variable, it will be shared by all instances of the class.\n",
        "\n"
      ]
    },
    {
      "cell_type": "code",
      "execution_count": null,
      "metadata": {},
      "outputs": [],
      "source": [
        "class Dog:\n",
        "\n",
        "    tricks = []             # mistaken use of a class variable\n",
        "\n",
        "    def __init__(self, name):\n",
        "        self.name = name\n",
        "\n",
        "    def add_trick(self, trick):\n",
        "        self.tricks.append(trick)\n",
        "\n",
        "d = Dog('Fido')\n",
        "e = Dog('Buddy')\n",
        "d.add_trick('roll over')\n",
        "e.add_trick('play dead')\n",
        "print(d.tricks)                # unexpectedly shared by"
      ]
    },
    {
      "cell_type": "code",
      "execution_count": null,
      "metadata": {},
      "outputs": [],
      "source": [
        "class Dog:\n",
        "\n",
        "    def __init__(self, name):\n",
        "        self.name = name\n",
        "        self.tricks = []    # creates a new empty list for each dog\n",
        "\n",
        "    def add_trick(self, trick):\n",
        "        self.tricks.append(trick)\n",
        "\n",
        "d = Dog('Fido')\n",
        "e = Dog('Buddy')\n",
        "d.add_trick('roll over')\n",
        "e.add_trick('play dead')\n",
        "\n",
        "print(d.tricks)\n",
        "print(e.tricks)\n"
      ]
    },
    {
      "cell_type": "markdown",
      "metadata": {},
      "source": [
        "### ✏️ **Exercise - Medical Billing Account**\n",
        "\n",
        "**Healthcare Context**: Medical facilities need to track patient account balances for procedures, treatments, and insurance payments.\n",
        "\n",
        "**Task**: Create a `MedicalAccount` class that manages patient billing:\n",
        "\n",
        "**Class Requirements**:\n",
        "1. **`__init__(patient_name, initial_balance)`**: Initialize account with patient name and starting balance\n",
        "2. **`add_charge(amount, description)`**: Add medical charges (procedures, medications, etc.)\n",
        "3. **`make_payment(amount, payment_type)`**: Process payments (insurance, patient, etc.)\n",
        "4. **`get_balance()`**: Return current account balance\n",
        "5. **`print_statement()`**: Display account summary with transaction history\n",
        "\n",
        "**Test Scenario**:\n",
        "1. Create account for \"Emma Wilson\" with $0 initial balance\n",
        "2. Add charge: $150 for \"Office Visit\"\n",
        "3. Add charge: $75 for \"Blood Work\"  \n",
        "4. Make payment: $100 from \"Insurance\"\n",
        "5. Make payment: $50 from \"Patient\"\n",
        "6. Print final statement\n",
        "\n",
        "**Expected Balance**: $75 remaining"
      ]
    },
    {
      "cell_type": "code",
      "execution_count": null,
      "metadata": {},
      "outputs": [],
      "source": [
        "class MedicalAccount:\n",
        "    \"\"\"\n",
        "    A class to manage patient medical billing accounts.\n",
        "    \n",
        "    Tracks charges, payments, and maintains transaction history.\n",
        "    \"\"\"\n",
        "    \n",
        "    def __init__(self, patient_name, initial_balance=0):\n",
        "        \"\"\"\n",
        "        Initialize a medical billing account.\n",
        "        \n",
        "        Args:\n",
        "            patient_name (str): Name of the patient\n",
        "            initial_balance (float): Starting account balance\n",
        "        \"\"\"\n",
        "        self.patient_name = patient_name\n",
        "        self.balance = initial_balance\n",
        "        self.transactions = []  # List to store transaction history\n",
        "        \n",
        "        if initial_balance != 0:\n",
        "            self.transactions.append({\n",
        "                'type': 'Initial Balance',\n",
        "                'amount': initial_balance,\n",
        "                'description': 'Account opening balance',\n",
        "                'balance_after': self.balance\n",
        "            })\n",
        "        \n",
        "        print(f\"✓ Medical account created for {patient_name}\")\n",
        "        print(f\"  Initial balance: ${self.balance:.2f}\")\n",
        "    \n",
        "    def add_charge(self, amount, description):\n",
        "        \"\"\"\n",
        "        Add a medical charge to the account.\n",
        "        \n",
        "        Args:\n",
        "            amount (float): Charge amount (positive value)\n",
        "            description (str): Description of the charge\n",
        "        \"\"\"\n",
        "        if amount <= 0:\n",
        "            print(\"❌ Error: Charge amount must be positive\")\n",
        "            return\n",
        "        \n",
        "        self.balance += amount\n",
        "        self.transactions.append({\n",
        "            'type': 'Charge',\n",
        "            'amount': amount,\n",
        "            'description': description,\n",
        "            'balance_after': self.balance\n",
        "        })\n",
        "        \n",
        "        print(f\"💰 Charge added: ${amount:.2f} for {description}\")\n",
        "        print(f\"   New balance: ${self.balance:.2f}\")\n",
        "    \n",
        "    def make_payment(self, amount, payment_type=\"Payment\"):\n",
        "        \"\"\"\n",
        "        Process a payment to the account.\n",
        "        \n",
        "        Args:\n",
        "            amount (float): Payment amount (positive value)\n",
        "            payment_type (str): Type of payment (Insurance, Patient, etc.)\n",
        "        \"\"\"\n",
        "        if amount <= 0:\n",
        "            print(\"❌ Error: Payment amount must be positive\")\n",
        "            return\n",
        "        \n",
        "        self.balance -= amount\n",
        "        self.transactions.append({\n",
        "            'type': 'Payment',\n",
        "            'amount': -amount,  # Negative for payments\n",
        "            'description': f\"{payment_type} payment\",\n",
        "            'balance_after': self.balance\n",
        "        })\n",
        "        \n",
        "        print(f\"💳 Payment received: ${amount:.2f} ({payment_type})\")\n",
        "        print(f\"   New balance: ${self.balance:.2f}\")\n",
        "    \n",
        "    def get_balance(self):\n",
        "        \"\"\"\n",
        "        Return the current account balance.\n",
        "        \n",
        "        Returns:\n",
        "            float: Current account balance\n",
        "        \"\"\"\n",
        "        return self.balance\n",
        "    \n",
        "    def print_statement(self):\n",
        "        \"\"\"\n",
        "        Print a detailed account statement.\n",
        "        \"\"\"\n",
        "        print(f\"\\n{'='*50}\")\n",
        "        print(f\"MEDICAL ACCOUNT STATEMENT\")\n",
        "        print(f\"{'='*50}\")\n",
        "        print(f\"Patient: {self.patient_name}\")\n",
        "        print(f\"Current Balance: ${self.balance:.2f}\")\n",
        "        print(f\"{'='*50}\")\n",
        "        \n",
        "        if not self.transactions:\n",
        "            print(\"No transactions recorded.\")\n",
        "        else:\n",
        "            print(f\"{'Type':<12} {'Amount':<10} {'Balance':<10} {'Description'}\")\n",
        "            print(f\"{'-'*50}\")\n",
        "            \n",
        "            for transaction in self.transactions:\n",
        "                amount_str = f\"${abs(transaction['amount']):.2f}\"\n",
        "                if transaction['amount'] < 0:\n",
        "                    amount_str = f\"-{amount_str}\"\n",
        "                \n",
        "                print(f\"{transaction['type']:<12} {amount_str:<10} \"\n",
        "                      f\"${transaction['balance_after']:.2f:<10} {transaction['description']}\")\n",
        "        \n",
        "        print(f\"{'='*50}\")\n",
        "        \n",
        "        # Payment status\n",
        "        if self.balance > 0:\n",
        "            print(f\"⚠️  Outstanding balance: ${self.balance:.2f}\")\n",
        "        elif self.balance < 0:\n",
        "            print(f\"💰 Credit balance: ${abs(self.balance):.2f}\")\n",
        "        else:\n",
        "            print(\"✓ Account is current (zero balance)\")\n",
        "\n",
        "# Test the MedicalAccount class\n",
        "print(\"=== Medical Billing System Demo ===\\n\")\n",
        "\n",
        "# 1. Create account for Emma Wilson\n",
        "account = MedicalAccount(\"Emma Wilson\", initial_balance=0)\n",
        "\n",
        "# 2. Add medical charges\n",
        "print(\"\\n--- Adding Charges ---\")\n",
        "account.add_charge(150.00, \"Office Visit\")\n",
        "account.add_charge(75.00, \"Blood Work\")\n",
        "\n",
        "# 3. Process payments\n",
        "print(\"\\n--- Processing Payments ---\")\n",
        "account.make_payment(100.00, \"Insurance\")\n",
        "account.make_payment(50.00, \"Patient\")\n",
        "\n",
        "# 4. Print final statement\n",
        "print(\"\\n--- Final Account Statement ---\")\n",
        "account.print_statement()\n",
        "\n",
        "# 5. Check final balance\n",
        "final_balance = account.get_balance()\n",
        "print(f\"\\nFinal balance check: ${final_balance:.2f}\")\n",
        "\n",
        "# 6. Demonstrate error handling\n",
        "print(\"\\n--- Error Handling Demo ---\")\n",
        "account.add_charge(-10, \"Invalid charge\")  # Should show error\n",
        "account.make_payment(0, \"Invalid payment\")  # Should show error"
      ]
    },
    {
      "cell_type": "markdown",
      "metadata": {},
      "source": [
        "---\n",
        "\n",
        "# 🎯 Lesson Summary\n",
        "\n",
        "Congratulations! You've completed Python Basics and learned fundamental programming concepts with biomedical engineering applications.\n",
        "\n",
        "## ✅ What You've Learned\n",
        "\n",
        "### **Core Programming Concepts**\n",
        "- **Variables & Data Types**: Store and manipulate different types of data (numbers, text, booleans)\n",
        "- **Type Casting**: Convert between data types safely with error handling\n",
        "- **String Operations**: Process text data using built-in methods\n",
        "- **Lists & Slicing**: Work with sequences of data and extract specific elements\n",
        "\n",
        "### **Control Flow**\n",
        "- **Conditional Logic**: Make decisions using if/elif/else statements\n",
        "- **Loops**: Process data with for and while loops\n",
        "- **Error Handling**: Use try-except blocks to handle errors gracefully\n",
        "\n",
        "### **Functions & Classes**  \n",
        "- **Functions**: Create reusable code blocks with parameters and return values\n",
        "- **Classes**: Organize data and functionality using object-oriented programming\n",
        "\n",
        "### **BME Applications Covered**\n",
        "- 🫀 **Vital Signs Processing**: Heart rate, blood pressure, respiratory rate analysis\n",
        "- 🩺 **Patient Management**: Age categorization, treatment qualification, account management\n",
        "- 📊 **Medical Data Analysis**: ECG processing, unit conversions, statistical analysis\n",
        "- 🏥 **Healthcare Systems**: Error handling for medical devices, data validation"
      ]
    }
  ],
  "metadata": {
    "colab": {
      "provenance": []
    },
    "kernelspec": {
      "display_name": "Python 3.9.7 64-bit",
      "language": "python",
      "name": "python3"
    },
    "language_info": {
      "codemirror_mode": {
        "name": "ipython",
        "version": 3
      },
      "file_extension": ".py",
      "mimetype": "text/x-python",
      "name": "python",
      "nbconvert_exporter": "python",
      "pygments_lexer": "ipython3",
      "version": "3.12.7"
    },
    "orig_nbformat": 4,
    "vscode": {
      "interpreter": {
        "hash": "5974ac25dc9be56ffc04c26f1dcea484687dd3721d1ee5a9c3f4a235d03fe9b9"
      }
    }
  },
  "nbformat": 4,
  "nbformat_minor": 0
}
